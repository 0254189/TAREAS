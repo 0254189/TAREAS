{
 "cells": [
  {
   "cell_type": "markdown",
   "id": "0b46df4e",
   "metadata": {},
   "source": [
    "# TAREA 2"
   ]
  },
  {
   "cell_type": "markdown",
   "id": "4605ee3b",
   "metadata": {},
   "source": [
    "# Descripción de la tarea:\n",
    "\n",
    "Dada una matriz que representa un mapa con celdas libres (0) y obstáculos (1),\n",
    "\n",
    "diseña un algoritmo que encuentre la ruta más corta desde una celda de inicio\n",
    "\n",
    "hasta una celda objetivo. La ruta debe evitar los obstáculos y moverse solo\n",
    "\n",
    "en direcciones permitidas (por ejemplo, arriba, abajo, izquierda, derecha).\n",
    "\n",
    "El resultado debe ser una lista de coordenadas que representan el camino más corto"
   ]
  },
  {
   "cell_type": "code",
   "execution_count": 1,
   "id": "3f7e649c",
   "metadata": {},
   "outputs": [
    {
     "name": "stdout",
     "output_type": "stream",
     "text": [
      "Ruta encontrada (longitud: 13 ):\n",
      "[(0, 0), (0, 1), (1, 1), (2, 1), (2, 0), (3, 0), (4, 0), (4, 1), (4, 2), (3, 2), (3, 3), (3, 4), (4, 4)]\n"
     ]
    }
   ],
   "source": [
    "from collections import deque\n",
    "\n",
    "def ruta_mas_corta(mapa, inicio, objetivo, modo=\"4-dir\"):\n",
    "    if not mapa or not mapa[0]:\n",
    "        return []\n",
    "    R, C = len(mapa), len(mapa[0])\n",
    "\n",
    "    def dentro(r, c): return 0 <= r < R and 0 <= c < C\n",
    "    def libre(r, c):  return mapa[r][c] == 0\n",
    "\n",
    "    if not (dentro(*inicio) and dentro(*objetivo)):\n",
    "        return []\n",
    "    if not (libre(*inicio) and libre(*objetivo)):\n",
    "        return []\n",
    "\n",
    "    if modo == \"8-dir\":\n",
    "        vecinos = [(-1,0),(1,0),(0,-1),(0,1),(-1,-1),(-1,1),(1,-1),(1,1)]\n",
    "    else:  # \"4-dir\"\n",
    "        vecinos = [(-1,0),(1,0),(0,-1),(0,1)]\n",
    "\n",
    "    q = deque([inicio])\n",
    "    visitado = {inicio}\n",
    "    padre = {inicio: None}\n",
    "\n",
    "    while q:\n",
    "        r, c = q.popleft()\n",
    "        if (r, c) == objetivo:\n",
    "            ruta = []\n",
    "            cur = (r, c)\n",
    "            while cur is not None:\n",
    "                ruta.append(cur)\n",
    "                cur = padre[cur]\n",
    "            return ruta[::-1]\n",
    "\n",
    "        for dr, dc in vecinos:\n",
    "            nr, nc = r + dr, c + dc\n",
    "            if 0 <= nr < R and 0 <= nc < C and mapa[nr][nc] == 0 and (nr, nc) not in visitado:\n",
    "                visitado.add((nr, nc))\n",
    "                padre[(nr, nc)] = (r, c)\n",
    "                q.append((nr, nc))\n",
    "    return []\n",
    "\n",
    "\n",
    "# ------------------ DEMO REPRODUCIBLE ------------------\n",
    "grid = [\n",
    "    [0,0,0,1,0],\n",
    "    [1,0,0,1,0],\n",
    "    [0,0,1,0,0],\n",
    "    [0,1,0,0,0],\n",
    "    [0,0,0,1,0],\n",
    "]\n",
    "inicio   = (0, 0)   # (fila, columna)\n",
    "objetivo = (4, 4)\n",
    "\n",
    "camino = ruta_mas_corta(grid, inicio, objetivo, modo=\"4-dir\")\n",
    "\n",
    "if camino:\n",
    "    print(\"Ruta encontrada (longitud:\", len(camino), \"):\")\n",
    "    print(camino)\n",
    "else:\n",
    "    print(\"No hay ruta\")\n"
   ]
  }
 ],
 "metadata": {
  "kernelspec": {
   "display_name": "base",
   "language": "python",
   "name": "python3"
  },
  "language_info": {
   "codemirror_mode": {
    "name": "ipython",
    "version": 3
   },
   "file_extension": ".py",
   "mimetype": "text/x-python",
   "name": "python",
   "nbconvert_exporter": "python",
   "pygments_lexer": "ipython3",
   "version": "3.13.5"
  }
 },
 "nbformat": 4,
 "nbformat_minor": 5
}
