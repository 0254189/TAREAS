{
 "cells": [
  {
   "cell_type": "markdown",
   "id": "e3da7ced",
   "metadata": {},
   "source": [
    "# Ejercicios de Introducción a Python\n",
    "\n",
    "\n",
    "## Tipos de Datos Básicos y Estructuras de Control\n",
    "\n",
    "\n",
    "### Ejercicio 1: Calculadora de Propinas\n",
    "\n",
    "\n",
    "\n",
    "Escribe un programa que solicite al usuario el monto de una cuenta (float) y el porcentaje de propina que desea dar (int). El programa debe calcular y mostrar la propina y el total a pagar.\n",
    "\n",
    "\n",
    "\n",
    "**Ejemplo de salida:**\n",
    "\n",
    "\n",
    "\n",
    "```\n",
    "\n",
    "Ingresa el monto de la cuenta: 150.75\n",
    "\n",
    "Ingresa el porcentaje de propina: 15\n",
    "\n",
    "Propina: $22.61\n",
    "\n",
    "Total a pagar: $173.36\n",
    "\n",
    "```\n",
    "\n",
    "\n",
    "\n",
    "---"
   ]
  },
  {
   "cell_type": "code",
   "execution_count": 2,
   "id": "a98704e6",
   "metadata": {},
   "outputs": [
    {
     "name": "stdout",
     "output_type": "stream",
     "text": [
      "\n",
      "Propina: $15.00\n",
      "Total a pagar: $165.00\n"
     ]
    }
   ],
   "source": [
    "monto = float(input(\"Ingresa el monto de la cuenta: \"))\n",
    "porcentaje = int(input(\"Ingresa el porcentaje de propina: \"))\n",
    "\n",
    "propina = monto * (porcentaje / 100)\n",
    "total = monto + propina\n",
    "\n",
    "print(f\"\\nPropina: ${propina:.2f}\")\n",
    "print(f\"Total a pagar: ${total:.2f}\")\n"
   ]
  },
  {
   "cell_type": "markdown",
   "id": "fc53364f",
   "metadata": {},
   "source": [
    "### Ejercicio 2: Contador de Vocales\n",
    "\n",
    "\n",
    "\n",
    "Crea un programa que pida una palabra al usuario (str) y use un ciclo `for` para contar cuántas vocales (a, e, i, o, u) contiene la palabra. Considera tanto mayúsculas como minúsculas.\n",
    "\n",
    "\n",
    "\n",
    "**Ejemplo de salida:**\n",
    "\n",
    "\n",
    "\n",
    "```\n",
    "\n",
    "Ingresa una palabra: Python\n",
    "\n",
    "La palabra \"Python\" tiene 1 vocal(es)\n",
    "\n",
    "```\n",
    "\n",
    "\n",
    "\n",
    "---"
   ]
  },
  {
   "cell_type": "code",
   "execution_count": null,
   "id": "4e63bf35",
   "metadata": {},
   "outputs": [
    {
     "name": "stdout",
     "output_type": "stream",
     "text": [
      "La palabra \"Holaooo\" tiene 5 vocal(es)\n"
     ]
    }
   ],
   "source": [
    "palabra = input(\"Ingresa una palabra: \")\n",
    "\n",
    "vocales = \"aeiouAEIOU\"\n",
    "contador = 0\n",
    "\n",
    "for letra in palabra:\n",
    "    if letra in vocales:\n",
    "        contador += 1\n",
    "    \n",
    "print(f'La palabra \"{palabra}\" tiene {contador} vocales')\n"
   ]
  },
  {
   "cell_type": "markdown",
   "id": "7dd82925",
   "metadata": {},
   "source": [
    "### Ejercicio 3: Tabla de Multiplicar\n",
    "\n",
    "\n",
    "\n",
    "Solicita al usuario un número entero (int) y usa un ciclo `for` para mostrar su tabla de multiplicar del 1 al 10.\n",
    "\n",
    "\n",
    "\n",
    "**Ejemplo de salida:**\n",
    "\n",
    "\n",
    "\n",
    "```\n",
    "\n",
    "Ingresa un número: 7\n",
    "\n",
    "7 x 1 = 7\n",
    "\n",
    "7 x 2 = 14\n",
    "\n",
    "...\n",
    "\n",
    "7 x 10 = 70\n",
    "\n",
    "```\n",
    "\n",
    "\n",
    "\n",
    "---\n",
    "\n"
   ]
  },
  {
   "cell_type": "code",
   "execution_count": 8,
   "id": "97d8af37",
   "metadata": {},
   "outputs": [
    {
     "name": "stdout",
     "output_type": "stream",
     "text": [
      "5 x 1 = 5\n",
      "5 x 2 = 10\n",
      "5 x 3 = 15\n",
      "5 x 4 = 20\n",
      "5 x 5 = 25\n",
      "5 x 6 = 30\n",
      "5 x 7 = 35\n",
      "5 x 8 = 40\n",
      "5 x 9 = 45\n",
      "5 x 10 = 50\n"
     ]
    }
   ],
   "source": [
    "numero = int(input(\"Ingresa un número: \"))\n",
    "\n",
    "for i in range(1, 11):\n",
    "    print(f\"{numero} x {i} = {numero * i}\")\n"
   ]
  },
  {
   "cell_type": "markdown",
   "id": "5b145e42",
   "metadata": {},
   "source": [
    "### Ejercicio 4: Validador de Contraseña Simple\n",
    "\n",
    "\n",
    "\n",
    "Escribe un programa que pida una contraseña al usuario y use un ciclo `while` para seguir pidiendo la contraseña hasta que tenga al menos 8 caracteres. Al final, muestra la longitud de la contraseña aceptada.\n",
    "\n",
    "\n",
    "\n",
    "**Ejemplo de salida:**\n",
    "\n",
    "\n",
    "\n",
    "```\n",
    "\n",
    "Ingresa tu contraseña: 123\n",
    "\n",
    "Muy corta. Ingresa tu contraseña: 12345678\n",
    "\n",
    "Contraseña aceptada. Longitud: 8 caracteres\n",
    "\n",
    "```\n",
    "\n",
    "\n",
    "\n",
    "---\n",
    "\n"
   ]
  },
  {
   "cell_type": "code",
   "execution_count": 11,
   "id": "8a01e714",
   "metadata": {},
   "outputs": [
    {
     "name": "stdout",
     "output_type": "stream",
     "text": [
      "\n",
      "Contraseña aceptada. Longitud: 8 caracteres\n"
     ]
    }
   ],
   "source": [
    "contraseña = input(\"Ingresa tu contraseña: \")\n",
    "\n",
    "while len(contraseña) < 8:\n",
    "    print(\"Muy corta.\", end=\" \")\n",
    "    contraseña = input(\"Ingresa tu contraseña: \")\n",
    "\n",
    "print(f\"\\nContraseña aceptada. Longitud: {len(contraseña)} caracteres\")\n"
   ]
  },
  {
   "cell_type": "markdown",
   "id": "754182a4",
   "metadata": {},
   "source": [
    "### Ejercicio 5: Suma de Números Pares\n",
    "\n",
    "\n",
    "\n",
    "Pide al usuario un número entero (int) y usa un ciclo `for` para calcular la suma de todos los números pares desde 2 hasta ese número (inclusive).\n",
    "\n",
    "\n",
    "\n",
    "**Ejemplo de salida:**\n",
    "\n",
    "\n",
    "\n",
    "```\n",
    "\n",
    "Ingresa un número: 10\n",
    "\n",
    "La suma de números pares desde 2 hasta 10 es: 30\n",
    "\n",
    "(2 + 4 + 6 + 8 + 10 = 30)\n",
    "\n",
    "```\n",
    "\n",
    "\n",
    "\n",
    "---"
   ]
  },
  {
   "cell_type": "code",
   "execution_count": 15,
   "id": "5eb8ad0a",
   "metadata": {},
   "outputs": [
    {
     "name": "stdout",
     "output_type": "stream",
     "text": [
      "\n",
      "La suma de números pares desde 2 hasta 13 es: 42\n",
      "(2 + 4 + 6 + 8 + 10 + 12 = 42)\n"
     ]
    }
   ],
   "source": [
    "num = int(input(\"Ingresa un número: \"))\n",
    "\n",
    "suma = 0\n",
    "\n",
    "for i in range(2, num + 1, 2):\n",
    "    suma += i\n",
    "\n",
    "print(f\"\\nLa suma de números pares desde 2 hasta {num} es: {suma}\")\n",
    "\n",
    "pares = [str(i) for i in range(2, num + 1, 2)]    \n",
    "print(f\"({' + '.join(pares)} = {suma})\")\n"
   ]
  },
  {
   "cell_type": "markdown",
   "id": "9a72b634",
   "metadata": {},
   "source": [
    "### Ejercicio 6: Generador de Patrones de Texto\n",
    "\n",
    "\n",
    "\n",
    "Solicita al usuario un carácter (str) y un número de filas (int). Usa ciclos `for` anidados para crear un patrón triangular donde cada fila tiene un carácter más que la anterior.\n",
    "\n",
    "\n",
    "\n",
    "**Ejemplo de salida:**\n",
    "\n",
    "\n",
    "\n",
    "```\n",
    "\n",
    "Ingresa un carácter: *\n",
    "\n",
    "Ingresa número de filas: 4\n",
    "\n",
    "*\n",
    "\n",
    "**\n",
    "\n",
    "***\n",
    "\n",
    "****\n",
    "\n",
    "```\n",
    "\n",
    "\n",
    "\n",
    "---"
   ]
  },
  {
   "cell_type": "code",
   "execution_count": 17,
   "id": "188f443c",
   "metadata": {},
   "outputs": [
    {
     "name": "stdout",
     "output_type": "stream",
     "text": [
      "=\n",
      "==\n",
      "===\n",
      "====\n",
      "=====\n",
      "======\n",
      "=======\n",
      "========\n",
      "=========\n"
     ]
    }
   ],
   "source": [
    "caracter = input(\"Ingresa un carácter: \")\n",
    "filas = int(input(\"Ingresa número de filas: \"))\n",
    "\n",
    "for i in range(1, filas + 1):\n",
    "    for j in range(i):   \n",
    "        print(caracter, end=\"\")\n",
    "    print()"
   ]
  },
  {
   "cell_type": "markdown",
   "id": "1433d4dd",
   "metadata": {},
   "source": [
    "### Ejercicio 7: Calculadora de Promedio con Validación\n",
    "\n",
    "\n",
    "\n",
    "Usa un ciclo `while` para pedir al usuario que ingrese números decimales (float) uno por uno. El programa debe terminar cuando el usuario ingrese -1. Al final, calcula y muestra el promedio de todos los números ingresados (sin contar el -1).\n",
    "\n",
    "\n",
    "\n",
    "**Ejemplo de salida:**\n",
    "\n",
    "\n",
    "\n",
    "```\n",
    "\n",
    "Ingresa un número (-1 para terminar): 8.5\n",
    "\n",
    "Ingresa un número (-1 para terminar): 9.2\n",
    "\n",
    "Ingresa un número (-1 para terminar): 7.8\n",
    "\n",
    "Ingresa un número (-1 para terminar): -1\n",
    "\n",
    "Promedio: 8.50\n",
    "\n",
    "```\n",
    "\n",
    "\n",
    "\n",
    "---"
   ]
  },
  {
   "cell_type": "code",
   "execution_count": 29,
   "id": "bf368e54",
   "metadata": {},
   "outputs": [
    {
     "name": "stdout",
     "output_type": "stream",
     "text": [
      "\n",
      "Promedio: 3.95\n"
     ]
    }
   ],
   "source": [
    "suma = 0\n",
    "contador = 0\n",
    "\n",
    "while True:\n",
    "    numero = float(input(\"Ingresa un número (-1 para terminar): \"))\n",
    "    if numero == -1:\n",
    "        break\n",
    "    suma += numero\n",
    "    contador += 1\n",
    "\n",
    "if contador > 0:\n",
    "    promedio = suma / contador\n",
    "    print(f\"\\nPromedio: {promedio:.2f}\")\n"
   ]
  },
  {
   "cell_type": "markdown",
   "id": "a95f5a4a",
   "metadata": {},
   "source": [
    "### Ejercicio 8: Inversor de Palabras\n",
    "\n",
    "\n",
    "\n",
    "Pide al usuario una frase (str) y usa un ciclo `for` para mostrar cada palabra de la frase al revés. Las palabras se separan por espacios.\n",
    "\n",
    "\n",
    "\n",
    "**Ejemplo de salida:**\n",
    "\n",
    "\n",
    "\n",
    "```\n",
    "\n",
    "Ingresa una frase: Hola mundo Python\n",
    "\n",
    "aloH\n",
    "\n",
    "odnum\n",
    "\n",
    "nohtyP\n",
    "\n",
    "```\n",
    "\n",
    "\n",
    "\n",
    "---"
   ]
  },
  {
   "cell_type": "code",
   "execution_count": 36,
   "id": "8a6876c0",
   "metadata": {},
   "outputs": [
    {
     "name": "stdout",
     "output_type": "stream",
     "text": [
      "aloh\n",
      "omoc\n",
      "satse\n"
     ]
    }
   ],
   "source": [
    "frase = input(\"Ingresa una frase: \")\n",
    "\n",
    "palabras = frase.split()\n",
    "\n",
    "for palabra in palabras:\n",
    "    print(palabra[::-1])\n"
   ]
  },
  {
   "cell_type": "markdown",
   "id": "26e908e4",
   "metadata": {},
   "source": [
    "### Ejercicio 9: Juego de Adivinanza Simple\n",
    "\n",
    "\n",
    "\n",
    "Crea un juego donde el programa \"piensa\" en un número del 1 al 20 (puedes usar el número 15 fijo). Usa un ciclo `while` para que el usuario siga adivinando hasta que acierte. Cuenta y muestra el número de intentos.\n",
    "\n",
    "\n",
    "\n",
    "**Ejemplo de salida:**\n",
    "\n",
    "\n",
    "\n",
    "```\n",
    "\n",
    "Adivina el número (1-20): 10\n",
    "\n",
    "Muy bajo. Adivina el número (1-20): 18\n",
    "\n",
    "Muy alto. Adivina el número (1-20): 15\n",
    "\n",
    "¡Correcto! Lo adivinaste en 3 intentos.\n",
    "\n",
    "```\n",
    "\n",
    "\n",
    "\n",
    "---"
   ]
  },
  {
   "cell_type": "code",
   "execution_count": null,
   "id": "115c6c9a",
   "metadata": {},
   "outputs": [
    {
     "name": "stdout",
     "output_type": "stream",
     "text": [
      "Muy bajo.\n",
      "Muy bajo.\n",
      "Muy bajo.\n",
      "Muy alto.\n",
      "Muy alto.\n",
      "Muy bajo.\n",
      "Muy bajo.\n",
      "Muy bajo.\n",
      "Muy alto.\n",
      "Muy alto.\n",
      "\n",
      "¡Correcto! Lo adivinaste en 11 intento(s).\n"
     ]
    }
   ],
   "source": [
    "numero_secreto = 15\n",
    "intentos = 0\n",
    "\n",
    "while True:\n",
    "    intento = int(input(\"Adivina el número (1-20): \"))\n",
    "    intentos += 1\n",
    "\n",
    "    if intento < numero_secreto:\n",
    "        print(\"Muy bajo.\")\n",
    "    elif intento > numero_secreto:\n",
    "        print(\"Muy alto.\")\n",
    "    else:\n",
    "        print(f\"\\n¡Correcto! Lo adivinaste en {intentos} intento(s).\")\n",
    "        break\n"
   ]
  },
  {
   "cell_type": "markdown",
   "id": "6063b5b7",
   "metadata": {},
   "source": [
    "### Ejercicio 10: Análisis de Texto\n",
    "\n",
    "\n",
    "\n",
    "Pide al usuario que ingrese un texto (str) y realiza el siguiente análisis usando ciclos:\n",
    "\n",
    "\n",
    "\n",
    "- Cuenta el número total de caracteres\n",
    "\n",
    "- Cuenta cuántos espacios hay\n",
    "\n",
    "- Cuenta cuántos dígitos numéricos hay\n",
    "\n",
    "- Muestra la primera y última letra del texto\n",
    "\n",
    "\n",
    "\n",
    "**Ejemplo de salida:**\n",
    "\n",
    "\n",
    "\n",
    "```\n",
    "\n",
    "Ingresa un texto: Hola mundo 123\n",
    "\n",
    "Análisis del texto:\n",
    "\n",
    "- Caracteres totales: 13\n",
    "\n",
    "- Espacios: 2\n",
    "\n",
    "- Dígitos numéricos: 3\n",
    "\n",
    "- Primera letra: H\n",
    "\n",
    "- Última letra: 3\n",
    "\n",
    "```\n",
    "\n"
   ]
  },
  {
   "cell_type": "code",
   "execution_count": 44,
   "id": "9c8423f8",
   "metadata": {},
   "outputs": [
    {
     "name": "stdout",
     "output_type": "stream",
     "text": [
      "Texto ingresado: asdf sadf\n",
      "\n",
      "Análisis del texto:\n",
      "- Caracteres totales: 9\n",
      "- Espacios: 1\n",
      "- Dígitos numéricos: 0\n",
      "- Primera letra: a\n",
      "- Última letra: f\n"
     ]
    }
   ],
   "source": [
    "\n",
    "texto = input(\"Ingresa un texto: \")\n",
    "print(f\"Texto ingresado: {texto}\")\n",
    "\n",
    "caracteres = 0\n",
    "espacios = 0\n",
    "digitos = 0\n",
    "\n",
    "for c in texto:\n",
    "    caracteres += 1\n",
    "    if c == \" \":\n",
    "        espacios += 1\n",
    "    if c.isdigit():\n",
    "        digitos += 1\n",
    "\n",
    "print(\"\\nAnálisis del texto:\")\n",
    "print(f\"- Caracteres totales: {caracteres}\")\n",
    "print(f\"- Espacios: {espacios}\")\n",
    "print(f\"- Dígitos numéricos: {digitos}\")\n",
    "print(f\"- Primera letra: {texto[0]}\")\n",
    "print(f\"- Última letra: {texto[-1]}\")\n"
   ]
  }
 ],
 "metadata": {
  "kernelspec": {
   "display_name": "base",
   "language": "python",
   "name": "python3"
  },
  "language_info": {
   "codemirror_mode": {
    "name": "ipython",
    "version": 3
   },
   "file_extension": ".py",
   "mimetype": "text/x-python",
   "name": "python",
   "nbconvert_exporter": "python",
   "pygments_lexer": "ipython3",
   "version": "3.13.5"
  }
 },
 "nbformat": 4,
 "nbformat_minor": 5
}
